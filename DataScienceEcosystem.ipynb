{
 "cells": [
  {
   "cell_type": "markdown",
   "id": "529ed865",
   "metadata": {},
   "source": [
    "# Data Science Tools and Ecosystem #"
   ]
  },
  {
   "cell_type": "markdown",
   "id": "565395fd-59e9-4a1a-b5ca-c9af1b99c1eb",
   "metadata": {},
   "source": [
    "In this Jupyter Notebook, Data Science Tools and Ecosystem are shown."
   ]
  },
  {
   "cell_type": "markdown",
   "id": "15097d45-7652-456f-8852-f4b13c0feb43",
   "metadata": {},
   "source": [
    "**Objectives**"
   ]
  },
  {
   "cell_type": "markdown",
   "id": "df6bccf9-c625-444c-852e-3e95043109bb",
   "metadata": {},
   "source": [
    "* List popular languages data scientists use.\n",
    "* List common libraries used in Data Science.\n",
    "* Practice the evaluation of arithmetic expressions.\n",
    "* Name some open source data science tools."
   ]
  },
  {
   "cell_type": "markdown",
   "id": "9e6794b6-c804-4e43-b5c9-26873ec4be4e",
   "metadata": {},
   "source": [
    "Some of the popular languages that Data Scientists use are:\n",
    "\n",
    "1. R\n",
    "2. Python\n",
    "3. SQL\n",
    "4. Scala"
   ]
  },
  {
   "cell_type": "markdown",
   "id": "2e552af3-6378-4ae9-8d5b-ad90a8931292",
   "metadata": {},
   "source": [
    "Some of the commonly used libraries used by Data Scientists include:\n"
   ]
  },
  {
   "cell_type": "markdown",
   "id": "745577e8-1339-4473-b766-ea2fc27bee8c",
   "metadata": {},
   "source": [
    "1. NumPy\n",
    "2. Scikit-learn\n",
    "3. Pandas\n",
    "4. PyTorch "
   ]
  },
  {
   "cell_type": "markdown",
   "id": "70ff6eb7-df02-489e-8a62-dba7bf45b356",
   "metadata": {},
   "source": [
    "| Data Science Tools |\n",
    "| ------------------ |\n",
    "| GitHub             |\n",
    "| MongoDB            |\n",
    "| IBM Watson Studio  |\n",
    "\n",
    "\n"
   ]
  },
  {
   "cell_type": "markdown",
   "id": "c94e375b-88d2-4141-b85b-f58391a31680",
   "metadata": {},
   "source": [
    "### Below are a few examples of evaluating arithmetic expressions in Python. ###\n",
    "\n"
   ]
  },
  {
   "cell_type": "markdown",
   "id": "ead661a0-a52a-41f0-920c-2145dca96d7c",
   "metadata": {},
   "source": [
    "This a simple arithmetic expression to mutiply then add integers."
   ]
  },
  {
   "cell_type": "code",
   "execution_count": 2,
   "id": "4deea8f9-2cbe-432b-8dd4-2b58ab7ca107",
   "metadata": {},
   "outputs": [
    {
     "data": {
      "text/plain": [
       "17"
      ]
     },
     "execution_count": 2,
     "metadata": {},
     "output_type": "execute_result"
    }
   ],
   "source": [
    "(3*4)+5"
   ]
  },
  {
   "cell_type": "markdown",
   "id": "8c3a45e5-c662-4071-b964-dd5f76ef5768",
   "metadata": {},
   "source": [
    "This will convert 200 minutes to hours by diving by 60"
   ]
  },
  {
   "cell_type": "code",
   "execution_count": 3,
   "id": "b084fb4d-c869-4116-b5b6-ea4af3933600",
   "metadata": {},
   "outputs": [
    {
     "data": {
      "text/plain": [
       "3.3333333333333335"
      ]
     },
     "execution_count": 3,
     "metadata": {},
     "output_type": "execute_result"
    }
   ],
   "source": [
    "200 / 60"
   ]
  },
  {
   "cell_type": "markdown",
   "id": "aee82f64-73bd-424f-9340-a508e581485b",
   "metadata": {},
   "source": [
    "## Author ##"
   ]
  },
  {
   "cell_type": "markdown",
   "id": "c9b6741c-6ea1-4e0d-a915-84afe1b02310",
   "metadata": {},
   "source": [
    "Cesar Mari"
   ]
  },
  {
   "cell_type": "code",
   "execution_count": null,
   "id": "b765eb55-d8b5-4197-b8c9-47f113157018",
   "metadata": {},
   "outputs": [],
   "source": []
  }
 ],
 "metadata": {
  "kernelspec": {
   "display_name": "Python 3 (ipykernel)",
   "language": "python",
   "name": "python3"
  },
  "language_info": {
   "codemirror_mode": {
    "name": "ipython",
    "version": 3
   },
   "file_extension": ".py",
   "mimetype": "text/x-python",
   "name": "python",
   "nbconvert_exporter": "python",
   "pygments_lexer": "ipython3",
   "version": "3.11.9"
  }
 },
 "nbformat": 4,
 "nbformat_minor": 5
}
